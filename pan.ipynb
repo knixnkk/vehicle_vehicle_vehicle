{
 "cells": [
  {
   "cell_type": "code",
   "execution_count": 1,
   "metadata": {},
   "outputs": [],
   "source": [
    "import pandas as pd\n",
    "import json"
   ]
  },
  {
   "cell_type": "code",
   "execution_count": 3,
   "metadata": {},
   "outputs": [],
   "source": [
    "f = \"class_list/ใบรายชื่อนักเรียน (2).json\"\n"
   ]
  },
  {
   "cell_type": "code",
   "execution_count": 6,
   "metadata": {},
   "outputs": [],
   "source": [
    "with open(f, \"r\") as file:\n",
    "    data = json.load(file)"
   ]
  },
  {
   "cell_type": "code",
   "execution_count": 14,
   "metadata": {},
   "outputs": [
    {
     "name": "stdout",
     "output_type": "stream",
     "text": [
      "37105 : 1 : นายคชาชีวะ  แก้วพระทอน\n",
      "37142 : 2 : นายกฤตยชญ์  แสนแก้ว\n",
      "37143 : 3 : นายกาญจน์ภัค  หงษามนุษย์\n",
      "37148 : 4 : นายชัยวัฒน์  ฝ่ายเพีย\n",
      "37150 : 5 : นายธนกฤต  สุขอิน\n",
      "37151 : 6 : นายธัญพิสิษฐ์  แก้วก่า\n",
      "37157 : 7 : นายวรโชติ  คำจันทร์ศรี\n",
      "37185 : 8 : นายธนโชติ  จิราพัชรชัยศิริ\n",
      "37188 : 9 : นายปิติกร  สวัสกุล\n",
      "37222 : 10 : นายภัทรชนน  หัดประกอบ\n",
      "37223 : 11 : นายภาสกร  พุทธา\n",
      "37294 : 12 : นายจตุรวิตต์  โคตร์ภู\n",
      "38929 : 13 : นายหัสดินทร์  วงศ์วิบูลเศรษฐ์\n",
      "37128 : 14 : นางสาวนรินลักษณ์  ข้ามประเทศ\n",
      "37133 : 15 : นางสาวพัทธ์ธีรา  ราชชูแสน\n",
      "37140 : 16 : นางสาวสุภนิดา  สมเทพ\n",
      "37161 : 17 : นางสาวฉัตรลดา  สายอุราช\n",
      "37165 : 18 : นางสาวญาณันธร  เลิศสงคราม\n",
      "37170 : 19 : นางสาววรกาญจน์  มะอินทร์\n",
      "37202 : 20 : นางสาวชาลิสา  พานอนันต์\n",
      "37240 : 21 : นางสาวนิชาภัทร  สนิทรักษ์\n",
      "37247 : 22 : นางสาวสุชาดา  นาพรม\n",
      "37366 : 23 : นางสาวสาวิตรี  วันวิเศษ\n",
      "37395 : 24 : นางสาวญาณิศา  ผิวพรรณ์\n",
      "37400 : 25 : นางสาวทัดษพร  พิพิธพงศ์สันต์\n",
      "37432 : 26 : นางสาวกนกพร  ตระแก้วจิตร\n",
      "38931 : 27 : นางสาวชัญญาลักษณ์  ศรีสุวะ\n",
      "38932 : 28 : นางสาวญานิศา  วงค์แสงคำ\n",
      "38933 : 29 : นางสาวปภาวี  ภูตะเวช\n",
      "38934 : 30 : นางสาวปรียาภัทร  เมืองแทน\n",
      "38936 : 31 : นางสาวพิชชาภา  ตรีนิคม\n",
      "38937 : 32 : นางสาวสุทธินันต์  สุทธิแสน\n",
      "38938 : 33 : นางสาวหนึ่งฤทัย  ไกลถิ่น\n"
     ]
    }
   ],
   "source": [
    "for i in data:\n",
    "    unique_num = i\n",
    "    no = data[i][0]\n",
    "    name = data[i][1]\n",
    "    print(f\"{unique_num} : {no} : {name}\")"
   ]
  },
  {
   "cell_type": "code",
   "execution_count": null,
   "metadata": {},
   "outputs": [],
   "source": []
  }
 ],
 "metadata": {
  "kernelspec": {
   "display_name": "env",
   "language": "python",
   "name": "python3"
  },
  "language_info": {
   "codemirror_mode": {
    "name": "ipython",
    "version": 3
   },
   "file_extension": ".py",
   "mimetype": "text/x-python",
   "name": "python",
   "nbconvert_exporter": "python",
   "pygments_lexer": "ipython3",
   "version": "3.8.10"
  }
 },
 "nbformat": 4,
 "nbformat_minor": 2
}
